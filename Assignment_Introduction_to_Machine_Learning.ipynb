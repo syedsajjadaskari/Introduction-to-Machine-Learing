{
  "nbformat": 4,
  "nbformat_minor": 0,
  "metadata": {
    "colab": {
      "name": "Assignment - Introduction to Machine Learning.ipynb",
      "provenance": [],
      "collapsed_sections": [],
      "include_colab_link": true
    },
    "kernelspec": {
      "name": "python3",
      "display_name": "Python 3"
    }
  },
  "cells": [
    {
      "cell_type": "markdown",
      "metadata": {
        "id": "view-in-github",
        "colab_type": "text"
      },
      "source": [
        "<a href=\"https://colab.research.google.com/github/syedsajjadaskari/Introduction-to-Machine-Learing/blob/main/Assignment_Introduction_to_Machine_Learning.ipynb\" target=\"_parent\"><img src=\"https://colab.research.google.com/assets/colab-badge.svg\" alt=\"Open In Colab\"/></a>"
      ]
    },
    {
      "cell_type": "markdown",
      "metadata": {
        "id": "Oq9OIkpjU3hr"
      },
      "source": [
        "# <b> Write a detailed blog on the introduction to machine learning wherein you will discuss about ideas of supervised, unsupervised and reinforcement learning. Also elaborate these ideas by expanding upon your understanding of classification, regression and clustering. Also lay down the steps involved in supervised learning. Use relevant and unique examples for discussing each ML technique.</b>"
      ]
    },
    {
      "cell_type": "markdown",
      "source": [
        "Firstly??\n",
        "\n",
        "**What is AI? **\n",
        "\n",
        "Ai is the simulation of the human intelligence process by machines.\n",
        "\n",
        "hmm..\n",
        "\n",
        "\n",
        "**How do humans learn?**\n",
        "\n",
        "\n",
        "Humans learn from parents basically==>>parents(supervisior).\n",
        "\n",
        "What is learning?\n",
        "**bold text**\n",
        "learning is any process by which a system improves performance from experience.\n",
        "\n",
        "So what is Machine learning?\n",
        "\n",
        "“Machine Learning enables a machine to automatically learn from data, improve from experience, and predict things without explicitly programmed.”\n",
        "\n",
        "Machine learning is concerned with a computer program that automatically improves their performance through experience.\n",
        "\n",
        "Machine Learning is classified into three types:\n",
        "\n",
        "i. Supervised Learning.\n",
        "\n",
        "ii. Unsupervised Learning.\n",
        "\n",
        "iii. Reinforcement Learning.\n",
        "\n",
        "\n",
        "Types of Machine Learning.\n",
        "\n",
        "Supervised Learning\n",
        "\n",
        "Supervised learning is the type of machine learning in which machines are trained using well “labelled” training data, and on basis of that data, machines predict the output.\n",
        "\n",
        "In supervised learning, the training data provided to the machines work as the supervisor that teaches the machines to predict the output correctly.\n",
        "\n",
        "The aim of a supervised learning algorithm is to find a mapping function to map the input variable(x) with the output variable(y).\n",
        "\n",
        "Steps in Supervised Learning.\n",
        "\n",
        "\n",
        "steps in supervised Learning.\n",
        "First Determine the type of training dataset\n",
        "Collect/Gather the labelled training data.\n",
        "Split the training dataset into a training dataset, test dataset, and validation dataset.\n",
        "Determine the input features of the training dataset, which should have enough knowledge so that the model can accurately predict the output.\n",
        "Determine the suitable algorithm for the model, such as support vector machine, decision tree, etc.\n",
        "Execute the algorithm on the training dataset. Sometimes we need validation sets as the control parameters, which are the subset of training datasets.\n",
        "Evaluate the accuracy of the model by providing the test set. If the model predicts the correct output, which means our model is accurate.\n",
        "Unsupervised Learning\n",
        "unsupervised learning is a machine learning technique in which models are not supervised using training dataset.\n",
        "\n",
        "‘’Unsupervised learning is a type of machine learning in which models are trained using unlabeled dataset and are allowed to act on that data without any supervision.’’\n",
        "\n",
        "The goal of unsupervised learning is to find the underlying structure of dataset, group that data according to similarities, and represent that dataset in a compressed format.\n",
        "\n",
        "Reinforcement Learning\n",
        "Reinforcement Learning is a feedback-based Machine learning technique in which an agent learns to behave in an environment by performing the actions and seeing the results of actions. For each good action, the agent gets positive feedback, and for each bad action, the agent gets negative feedback or a penalty.\n",
        "\n",
        "In Reinforcement Learning, the agent learns automatically using feedback without any labelled data, unlike supervised learning.\n",
        "\n",
        "Since there is no labeled data, so the agent is bound to learn by its experience only.\n",
        "\n",
        "RL solves a specific type of problem where decision making is sequential, and the goal is long-term, such as game-playing, robotics, etc.\n",
        "\n"
      ],
      "metadata": {
        "id": "IGQClYfCU__8"
      }
    },
    {
      "cell_type": "code",
      "source": [
        ""
      ],
      "metadata": {
        "id": "rRjFoBkZU_QN"
      },
      "execution_count": null,
      "outputs": []
    },
    {
      "cell_type": "code",
      "metadata": {
        "id": "p0gkUooyR6Ix"
      },
      "source": [
        ""
      ],
      "execution_count": null,
      "outputs": []
    }
  ]
}